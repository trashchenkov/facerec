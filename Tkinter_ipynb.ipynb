{
  "nbformat": 4,
  "nbformat_minor": 0,
  "metadata": {
    "colab": {
      "provenance": [],
      "authorship_tag": "ABX9TyPfNAyrq276I/kt3t5zgQuH",
      "include_colab_link": true
    },
    "kernelspec": {
      "name": "python3",
      "display_name": "Python 3"
    },
    "language_info": {
      "name": "python"
    }
  },
  "cells": [
    {
      "cell_type": "markdown",
      "metadata": {
        "id": "view-in-github",
        "colab_type": "text"
      },
      "source": [
        "<a href=\"https://colab.research.google.com/github/trashchenkov/facerec/blob/master/Tkinter_ipynb.ipynb\" target=\"_parent\"><img src=\"https://colab.research.google.com/assets/colab-badge.svg\" alt=\"Open In Colab\"/></a>"
      ]
    },
    {
      "cell_type": "markdown",
      "source": [
        "ВНИМАНИЕ! Код в колабе работать не будет. Колаб - это виртуальная машина где-то далеко на сервере, у нее нет средств вывода отдельных окон. Есть несколько путей по запуску кода из этого занятия.\n",
        "- Скачивание колаба на компьютер в виде ipynb файла, открытие файла и запуск кода в Jupyter Notebook (можно использовать дистрибутив Anaconda).\n",
        "- Использование колаба только в качестве пособия, копирование кода из ячеек и запуск его в других IDE (IDLE, PyCharm и т.д.).\n",
        "- Подключение колаба к локальной среде выполнения."
      ],
      "metadata": {
        "id": "iGYcBp6OuZ2L"
      }
    },
    {
      "cell_type": "markdown",
      "source": [
        "## Базовый пример для tkinter"
      ],
      "metadata": {
        "id": "gLNTBVTouSU1"
      }
    },
    {
      "cell_type": "code",
      "execution_count": null,
      "metadata": {
        "id": "6_aqDzcRuEK5"
      },
      "outputs": [],
      "source": [
        "import tkinter as tk\n",
        "\n",
        "root = tk.Tk()\n",
        "root.mainloop()\n"
      ]
    },
    {
      "cell_type": "markdown",
      "source": [
        "##Работа с несколькими виджетами"
      ],
      "metadata": {
        "id": "I0CWfflbulyr"
      }
    },
    {
      "cell_type": "code",
      "source": [
        "from tkinter import *\n",
        "\n",
        "# Создаем объект окна\n",
        "window = Tk()\n",
        "window.title(\"Пример программы с использованием виджетов Button, Label и Entry\")\n",
        "window.geometry('700x200')\n",
        "\n",
        "# Создаем объект метки\n",
        "label = Label(window, text=\"Введите текст:\")\n",
        "label.pack()\n",
        "\n",
        "# Создаем объект поля для ввода\n",
        "entry = Entry(window, width=30)\n",
        "entry.pack()\n",
        "\n",
        "# Создаем функцию, которая будет вызвана при нажатии на кнопку\n",
        "def show_text():\n",
        "    text = entry.get()\n",
        "    label.config(text=text)\n",
        "\n",
        "# Создаем объект кнопки\n",
        "button = Button(window, text=\"Отобразить текст\", command=show_text)\n",
        "button.pack()\n",
        "\n",
        "# Запускаем главный цикл окна\n",
        "window.mainloop()\n"
      ],
      "metadata": {
        "id": "oFX2SKR_umOE"
      },
      "execution_count": null,
      "outputs": []
    },
    {
      "cell_type": "markdown",
      "source": [
        "##Менеджеры геометрии\n",
        "###Pack"
      ],
      "metadata": {
        "id": "Cz12rburuoq-"
      }
    },
    {
      "cell_type": "code",
      "source": [
        "import tkinter as tk\n",
        "\n",
        "root = tk.Tk()\n",
        "\n",
        "# Создание первой кнопки\n",
        "button1 = tk.Button(root, text=\"Кнопка 1\", padx=10, pady=5)\n",
        "button1.pack()\n",
        "\n",
        "# Создание второй кнопки\n",
        "button2 = tk.Button(root, text=\"Кнопка 2\", padx=10, pady=5)\n",
        "button2.pack()\n",
        "\n",
        "root.mainloop()\n",
        "\n"
      ],
      "metadata": {
        "id": "aR6V43leuo5j"
      },
      "execution_count": null,
      "outputs": []
    },
    {
      "cell_type": "markdown",
      "source": [
        "###Grid"
      ],
      "metadata": {
        "id": "9mLmbUvA6TUv"
      }
    },
    {
      "cell_type": "code",
      "source": [
        "import tkinter as tk\n",
        "\n",
        "# Создаем объект окна\n",
        "window = tk.Tk()\n",
        "window.title(\"Пример использования менеджера grid\")\n",
        "\n",
        "# Создаем кнопки\n",
        "button1 = tk.Button(window, text=\"Кнопка 1\")\n",
        "button2 = tk.Button(window, text=\"Кнопка 2\")\n",
        "\n",
        "# Размещаем кнопки с помощью менеджера grid\n",
        "button1.grid(row=0, column=0)\n",
        "button2.grid(row=0, column=1)\n",
        "\n",
        "# Запускаем главный цикл окна\n",
        "window.mainloop()\n"
      ],
      "metadata": {
        "id": "Bbtunyo_6go1"
      },
      "execution_count": null,
      "outputs": []
    },
    {
      "cell_type": "code",
      "source": [
        "import tkinter as tk\n",
        "\n",
        "# Создаем объект окна\n",
        "window = tk.Tk()\n",
        "window.title(\"Пример создания таблицы с помощью менеджера grid\")\n",
        "\n",
        "# Создаем объект фрейма, который будет содержать таблицу\n",
        "frame = tk.Frame(window)\n",
        "\n",
        "# Создаем виджеты, которые будем размещать в таблице\n",
        "label1 = tk.Label(frame, text=\"Ячейка 1-1\")\n",
        "label2 = tk.Label(frame, text=\"Ячейка 1-2\")\n",
        "label3 = tk.Label(frame, text=\"Ячейка 2-1\")\n",
        "label4 = tk.Label(frame, text=\"Ячейка 2-2\")\n",
        "\n",
        "# Размещаем виджеты в таблице с помощью менеджера grid\n",
        "label1.grid(row=0, column=0)\n",
        "label2.grid(row=0, column=1)\n",
        "label3.grid(row=1, column=0)\n",
        "label4.grid(row=1, column=1)\n",
        "\n",
        "# Размещаем фрейм в окне\n",
        "frame.pack()\n",
        "\n",
        "# Запускаем главный цикл окна\n",
        "window.mainloop()\n"
      ],
      "metadata": {
        "id": "MdHEJq316xoV"
      },
      "execution_count": null,
      "outputs": []
    },
    {
      "cell_type": "code",
      "source": [
        "import tkinter as tk\n",
        "\n",
        "root = tk.Tk()\n",
        "root.title(\"Пример кода для использования таблицы в tkinter\")\n",
        "\n",
        "# Создаем контейнер\n",
        "container = tk.Frame(root)\n",
        "container.grid()\n",
        "\n",
        "# Создаем метки и размещаем их в таблице\n",
        "tk.Label(container, text=\"Имя:\").grid(row=0, column=0)\n",
        "tk.Label(container, text=\"Фамилия:\").grid(row=1, column=0)\n",
        "tk.Label(container, text=\"Email:\").grid(row=2, column=0)\n",
        "tk.Label(container, text=\"Телефон:\").grid(row=3, column=0)\n",
        "\n",
        "# Запускаем главный цикл окна\n",
        "root.mainloop()\n"
      ],
      "metadata": {
        "id": "iL1_0Qb_65bj"
      },
      "execution_count": null,
      "outputs": []
    },
    {
      "cell_type": "code",
      "source": [
        "import tkinter as tk\n",
        "\n",
        "root = tk.Tk()\n",
        "root.title(\"Пример кода для настройки параметров таблицы в tkinter\")\n",
        "\n",
        "# Создаем контейнер с помощью виджета Frame и размещаем его на главном окне с помощью менеджера grid\n",
        "container = tk.Frame(root)\n",
        "container.grid(column=0, row=0, padx=10, pady=10)\n",
        "\n",
        "# Создаем метки и размещаем их в таблице, используя координаты row и column\n",
        "label1 = tk.Label(container, text=\"Метка 1\")\n",
        "label1.grid(column=0, row=0, padx=5, pady=5, sticky=\"w\")\n",
        "label2 = tk.Label(container, text=\"Метка 2\")\n",
        "label2.grid(column=1, row=0, padx=5, pady=5, sticky=\"w\")\n",
        "label3 = tk.Label(container, text=\"Метка 3\")\n",
        "label3.grid(column=0, row=1, padx=5, pady=5, sticky=\"w\")\n",
        "label4 = tk.Label(container, text=\"Метка 4\")\n",
        "label4.grid(column=1, row=1, padx=5, pady=5, sticky=\"w\")\n",
        "\n",
        "root.mainloop()\n"
      ],
      "metadata": {
        "id": "dts1IS-G7EDV"
      },
      "execution_count": null,
      "outputs": []
    },
    {
      "cell_type": "markdown",
      "source": [
        "###Place"
      ],
      "metadata": {
        "id": "AHOHPhMG6lxf"
      }
    },
    {
      "cell_type": "code",
      "source": [
        "import tkinter as tk\n",
        "\n",
        "root = tk.Tk()\n",
        "root.title(\"Пример кода для использования менеджера place в tkinter\")\n",
        "\n",
        "# Создаем виджет и размещаем его с использованием абсолютных координат\n",
        "button = tk.Button(root, text=\"Кнопка\")\n",
        "button.place(x=50, y=150)\n",
        "\n",
        "root.mainloop()\n"
      ],
      "metadata": {
        "id": "wWacw5Tu7R-P"
      },
      "execution_count": null,
      "outputs": []
    },
    {
      "cell_type": "code",
      "source": [
        "from tkinter import *\n",
        "\n",
        "#функция для операции сложение\n",
        "def add():\n",
        "    result = float(num1.get()) + float(num2.get())\n",
        "    txt = result_label['text']\n",
        "    result_label.config(text=txt + str(result))\n",
        "\n",
        "#функция для операции вычитание\n",
        "def subtract():\n",
        "    result = float(num1.get()) - float(num2.get())\n",
        "    result_label.config(text=result)\n",
        "\n",
        "#функция для операции умножение\n",
        "def multiply():\n",
        "    result = float(num1.get()) * float(num2.get())\n",
        "    result_label.config(text=result)\n",
        "\n",
        "#функция для операции деление\n",
        "def divide():\n",
        "    result = float(num1.get()) / float(num2.get())\n",
        "    result_label.config(text=result)\n",
        "\n",
        "#создание объекта окна\n",
        "window = Tk()\n",
        "window.title(\"Калькулятор\")\n",
        "\n",
        "#создание объекта метки\n",
        "num1_label = Label(window, text=\"Введите первое число:\")\n",
        "num1_label.grid(row=0, column=0)\n",
        "\n",
        "#создание объекта поля для ввода\n",
        "num1 = Entry(window)\n",
        "num1.grid(row=0, column=1)\n",
        "\n",
        "num2_label = Label(window, text=\"Введите второе число:\")\n",
        "num2_label.grid(row=1, column=0)\n",
        "\n",
        "num2 = Entry(window)\n",
        "num2.grid(row=1, column=1)\n",
        "\n",
        "#создание объекта кнопки\n",
        "add_button = Button(window, text=\"+\", command=add)\n",
        "add_button.grid(row=2, column=0)\n",
        "\n",
        "subtract_button = Button(window, text=\"-\", command=subtract)\n",
        "subtract_button.grid(row=2, column=1)\n",
        "\n",
        "multiply_button = Button(window, text=\"*\", command=multiply)\n",
        "multiply_button.grid(row=3, column=0)\n",
        "\n",
        "divide_button = Button(window, text=\"/\", command=divide)\n",
        "divide_button.grid(row=3, column=1)\n",
        "\n",
        "#вывод результата\n",
        "result_label = Label(window, text=\"Результат:\")\n",
        "result_label.grid(row=4, column=0)\n",
        "\n",
        "#запуск главного цикла окна\n",
        "window.mainloop()"
      ],
      "metadata": {
        "id": "sPwooIlOivz3"
      },
      "execution_count": null,
      "outputs": []
    },
    {
      "cell_type": "code",
      "source": [],
      "metadata": {
        "id": "LydLX1ZPjBX4"
      },
      "execution_count": null,
      "outputs": []
    }
  ]
}